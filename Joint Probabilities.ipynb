{
 "metadata": {
  "name": "",
  "signature": "sha256:93c0209338e6902c4b30b01d25e0989976cdfb668e6c3bf740f531ebe64ab268"
 },
 "nbformat": 3,
 "nbformat_minor": 0,
 "worksheets": [
  {
   "cells": [
    {
     "cell_type": "markdown",
     "metadata": {},
     "source": [
      "#Joint and Conditional Probabilities\n",
      "\n",
      "An example of a two-dimensional probability distribution. The color-coded panel shows p(x, y). The two panels to the left and below show marginal distributions in x and y (see eq. 3.8). The three panels to the right show the conditional probability distributions p(x|y) (see eq. 3.7) for three different values of y (as marked in the left panel). \n",
      "Source: http://www.astroml.org/book_figures/chapter3/fig_conditional_probability.html"
     ]
    },
    {
     "cell_type": "code",
     "collapsed": false,
     "input": [
      "import numpy as np\n",
      "from matplotlib import pyplot as plt\n",
      "from matplotlib.ticker import NullFormatter, NullLocator, MultipleLocator\n",
      "%matplotlib inline"
     ],
     "language": "python",
     "metadata": {},
     "outputs": [],
     "prompt_number": 1
    },
    {
     "cell_type": "code",
     "collapsed": false,
     "input": [
      "def banana_distribution(N=10000):\n",
      "    \"\"\"This generates random points in a banana shape\"\"\"\n",
      "    # create a truncated normal distribution\n",
      "    theta = np.random.normal(0, np.pi / 8, 10000)\n",
      "    theta[theta >= np.pi / 4] /= 2\n",
      "    theta[theta <= -np.pi / 4] /= 2\n",
      "    # define the curve parametrically\n",
      "    r = np.sqrt(1. / abs(np.cos(theta) ** 2 - np.sin(theta) ** 2))\n",
      "    r += np.random.normal(0, 0.08, size=10000)\n",
      "    x = r * np.cos(theta + np.pi / 4)\n",
      "    y = r * np.sin(theta + np.pi / 4)\n",
      "    return (x, y)"
     ],
     "language": "python",
     "metadata": {},
     "outputs": [],
     "prompt_number": 2
    },
    {
     "cell_type": "code",
     "collapsed": false,
     "input": [
      "#------------------------------------------------------------\n",
      "# Generate the data and compute the normalized 2D histogram\n",
      "np.random.seed(1)\n",
      "x, y = banana_distribution(10000)\n",
      "\n",
      "Ngrid = 41\n",
      "grid = np.linspace(0, 2, Ngrid + 1)\n",
      "\n",
      "H, xbins, ybins = np.histogram2d(x, y, grid)\n",
      "H /= np.sum(H)"
     ],
     "language": "python",
     "metadata": {},
     "outputs": [],
     "prompt_number": 3
    },
    {
     "cell_type": "code",
     "collapsed": false,
     "input": [
      "# plot the result\n",
      "fig = plt.figure(figsize=(10, 10))\n",
      "\n",
      "# define axes\n",
      "ax_Pxy = plt.axes((0.2, 0.34, 0.27, 0.52))\n",
      "ax_Px = plt.axes((0.2, 0.14, 0.27, 0.2))\n",
      "ax_Py = plt.axes((0.1, 0.34, 0.1, 0.52))\n",
      "ax_cb = plt.axes((0.48, 0.34, 0.01, 0.52))\n",
      "ax_Px_y = [plt.axes((0.65, 0.62, 0.32, 0.23)),\n",
      "           plt.axes((0.65, 0.38, 0.32, 0.23)),\n",
      "           plt.axes((0.65, 0.14, 0.32, 0.23))]\n",
      "\n",
      "# set axis label formatters\n",
      "ax_Px_y[0].xaxis.set_major_formatter(NullFormatter())\n",
      "ax_Px_y[1].xaxis.set_major_formatter(NullFormatter())\n",
      "\n",
      "ax_Pxy.xaxis.set_major_formatter(NullFormatter())\n",
      "ax_Pxy.yaxis.set_major_formatter(NullFormatter())\n",
      "\n",
      "ax_Px.yaxis.set_major_formatter(NullFormatter())\n",
      "ax_Py.xaxis.set_major_formatter(NullFormatter())\n",
      "\n",
      "plt.axes(ax_Pxy)\n",
      "H *= 1000\n",
      "plt.imshow(H, interpolation='nearest', origin='lower', aspect='auto',\n",
      "           extent=[0, 2, 0, 2], cmap=plt.cm.jet)\n",
      "\n",
      "cb = plt.colorbar(cax=ax_cb)\n",
      "cb.set_label('$p(x, y)$')\n",
      "plt.text(0, 1.02, r'$\\times 10^{-3}$',\n",
      "         transform=ax_cb.transAxes)\n",
      "\n",
      "# draw p(x) distribution\n",
      "ax_Px.plot(xbins[1:], H.sum(0), '-k', drawstyle='steps')\n",
      "\n",
      "# draw p(y) distribution\n",
      "ax_Py.plot(H.sum(1), ybins[1:], '-k', drawstyle='steps')\n",
      "\n",
      "# define axis limits\n",
      "ax_Pxy.set_xlim(0, 2)\n",
      "ax_Pxy.set_ylim(0, 2)\n",
      "ax_Px.set_xlim(0, 2)\n",
      "ax_Py.set_ylim(0, 2)\n",
      "\n",
      "# label axes\n",
      "ax_Pxy.set_xlabel('$x$')\n",
      "ax_Pxy.set_ylabel('$y$')\n",
      "ax_Px.set_xlabel('$x$')\n",
      "ax_Px.set_ylabel('$p(x)$')\n",
      "ax_Px.yaxis.set_label_position('right')\n",
      "ax_Py.set_ylabel('$y$')\n",
      "ax_Py.set_xlabel('$p(y)$')\n",
      "ax_Py.xaxis.set_label_position('top')\n",
      "\n",
      "# draw marginal probabilities\n",
      "iy = [3 * Ngrid / 4, Ngrid / 2, Ngrid / 4]\n",
      "colors = 'rgc'\n",
      "axis = ax_Pxy.axis()\n",
      "for i in range(3):\n",
      "    # overplot range on joint probability\n",
      "    ax_Pxy.plot([0, 2, 2, 0],\n",
      "                [ybins[iy[i] + 1], ybins[iy[i] + 1],\n",
      "                 ybins[iy[i]], ybins[iy[i]]], c=colors[i], lw=1)\n",
      "    Px_y = H[iy[i]] / H[iy[i]].sum()\n",
      "    ax_Px_y[i].plot(xbins[1:], Px_y, drawstyle='steps', c=colors[i])\n",
      "    ax_Px_y[i].yaxis.set_major_formatter(NullFormatter())\n",
      "    ax_Px_y[i].set_ylabel('$p(x | %.1f)$' % ybins[iy[i]])\n",
      "ax_Pxy.axis(axis)\n",
      "\n",
      "ax_Px_y[2].set_xlabel('$x$')\n",
      "\n",
      "ax_Pxy.set_title('Joint Probability')\n",
      "ax_Px_y[0].set_title('Conditional Probability')\n",
      "\n",
      "plt.show()"
     ],
     "language": "python",
     "metadata": {},
     "outputs": [
      {
       "metadata": {},
       "output_type": "display_data",
       "png": "[encoded data removed]",
       "text": [
        "<matplotlib.figure.Figure at 0x7f32f49d1fd0>"
       ]
      }
     ],
     "prompt_number": 4
    },
    {
     "cell_type": "code",
     "collapsed": false,
     "input": [],
     "language": "python",
     "metadata": {},
     "outputs": [],
     "prompt_number": 4
    }
   ],
   "metadata": {}
  }
 ]
}